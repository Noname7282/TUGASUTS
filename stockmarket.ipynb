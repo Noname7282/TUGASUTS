{
 "cells": [
  {
   "cell_type": "markdown",
   "metadata": {},
   "source": [
    "Library Yang Akan Di Gunakan"
   ]
  },
  {
   "cell_type": "code",
   "execution_count": 90,
   "metadata": {},
   "outputs": [],
   "source": [
    "import pandas as pd\n",
    "import numpy as np\n",
    "import seaborn as sns\n",
    "import matplotlib.pyplot as plt\n",
    "from sklearn.linear_model import LinearRegression\n",
    "from sklearn.model_selection import train_test_split\n"
   ]
  },
  {
   "cell_type": "markdown",
   "metadata": {},
   "source": [
    "Memanggil Dataset"
   ]
  },
  {
   "cell_type": "code",
   "execution_count": 49,
   "metadata": {},
   "outputs": [],
   "source": [
    "df = pd.read_csv('TCS.csv')"
   ]
  },
  {
   "cell_type": "markdown",
   "metadata": {},
   "source": [
    "Deskripsi Dataset"
   ]
  },
  {
   "cell_type": "code",
   "execution_count": 50,
   "metadata": {},
   "outputs": [
    {
     "data": {
      "text/html": [
       "<div>\n",
       "<style scoped>\n",
       "    .dataframe tbody tr th:only-of-type {\n",
       "        vertical-align: middle;\n",
       "    }\n",
       "\n",
       "    .dataframe tbody tr th {\n",
       "        vertical-align: top;\n",
       "    }\n",
       "\n",
       "    .dataframe thead th {\n",
       "        text-align: right;\n",
       "    }\n",
       "</style>\n",
       "<table border=\"1\" class=\"dataframe\">\n",
       "  <thead>\n",
       "    <tr style=\"text-align: right;\">\n",
       "      <th></th>\n",
       "      <th>Date</th>\n",
       "      <th>Open</th>\n",
       "      <th>High</th>\n",
       "      <th>Low</th>\n",
       "      <th>Last</th>\n",
       "      <th>Close</th>\n",
       "      <th>Total Trade Quantity</th>\n",
       "      <th>Turnover (Lacs)</th>\n",
       "    </tr>\n",
       "  </thead>\n",
       "  <tbody>\n",
       "    <tr>\n",
       "      <th>0</th>\n",
       "      <td>2018-12-03</td>\n",
       "      <td>1984.00</td>\n",
       "      <td>1990.00</td>\n",
       "      <td>1968.30</td>\n",
       "      <td>1984.00</td>\n",
       "      <td>1982.40</td>\n",
       "      <td>1610576.0</td>\n",
       "      <td>31868.00</td>\n",
       "    </tr>\n",
       "    <tr>\n",
       "      <th>1</th>\n",
       "      <td>2018-12-04</td>\n",
       "      <td>1983.00</td>\n",
       "      <td>2019.40</td>\n",
       "      <td>1971.00</td>\n",
       "      <td>2009.85</td>\n",
       "      <td>2010.85</td>\n",
       "      <td>3270615.0</td>\n",
       "      <td>65568.23</td>\n",
       "    </tr>\n",
       "    <tr>\n",
       "      <th>2</th>\n",
       "      <td>2018-12-05</td>\n",
       "      <td>2006.00</td>\n",
       "      <td>2018.00</td>\n",
       "      <td>1985.00</td>\n",
       "      <td>2003.90</td>\n",
       "      <td>2006.75</td>\n",
       "      <td>2501539.0</td>\n",
       "      <td>50131.23</td>\n",
       "    </tr>\n",
       "    <tr>\n",
       "      <th>3</th>\n",
       "      <td>2018-12-06</td>\n",
       "      <td>1998.00</td>\n",
       "      <td>2017.00</td>\n",
       "      <td>1979.60</td>\n",
       "      <td>1990.00</td>\n",
       "      <td>1992.70</td>\n",
       "      <td>2321216.0</td>\n",
       "      <td>46373.71</td>\n",
       "    </tr>\n",
       "    <tr>\n",
       "      <th>4</th>\n",
       "      <td>2018-12-07</td>\n",
       "      <td>1985.05</td>\n",
       "      <td>2003.90</td>\n",
       "      <td>1973.00</td>\n",
       "      <td>1999.85</td>\n",
       "      <td>1995.20</td>\n",
       "      <td>1680420.0</td>\n",
       "      <td>33463.26</td>\n",
       "    </tr>\n",
       "    <tr>\n",
       "      <th>5</th>\n",
       "      <td>2018-12-10</td>\n",
       "      <td>1975.00</td>\n",
       "      <td>2011.00</td>\n",
       "      <td>1960.00</td>\n",
       "      <td>1961.00</td>\n",
       "      <td>1975.80</td>\n",
       "      <td>2010786.0</td>\n",
       "      <td>39990.73</td>\n",
       "    </tr>\n",
       "    <tr>\n",
       "      <th>6</th>\n",
       "      <td>2018-12-11</td>\n",
       "      <td>1970.00</td>\n",
       "      <td>2010.00</td>\n",
       "      <td>1961.00</td>\n",
       "      <td>1997.05</td>\n",
       "      <td>2000.00</td>\n",
       "      <td>2942014.0</td>\n",
       "      <td>58636.26</td>\n",
       "    </tr>\n",
       "    <tr>\n",
       "      <th>7</th>\n",
       "      <td>2018-12-12</td>\n",
       "      <td>2001.10</td>\n",
       "      <td>2022.00</td>\n",
       "      <td>1984.95</td>\n",
       "      <td>2016.50</td>\n",
       "      <td>2016.80</td>\n",
       "      <td>2219993.0</td>\n",
       "      <td>44663.42</td>\n",
       "    </tr>\n",
       "    <tr>\n",
       "      <th>8</th>\n",
       "      <td>2018-12-13</td>\n",
       "      <td>2024.00</td>\n",
       "      <td>2029.70</td>\n",
       "      <td>1974.50</td>\n",
       "      <td>1981.95</td>\n",
       "      <td>1982.60</td>\n",
       "      <td>3748429.0</td>\n",
       "      <td>74802.38</td>\n",
       "    </tr>\n",
       "    <tr>\n",
       "      <th>9</th>\n",
       "      <td>2018-12-14</td>\n",
       "      <td>1983.00</td>\n",
       "      <td>1998.95</td>\n",
       "      <td>1975.25</td>\n",
       "      <td>1989.00</td>\n",
       "      <td>1989.75</td>\n",
       "      <td>2473761.0</td>\n",
       "      <td>49094.42</td>\n",
       "    </tr>\n",
       "  </tbody>\n",
       "</table>\n",
       "</div>"
      ],
      "text/plain": [
       "         Date     Open     High      Low     Last    Close  \\\n",
       "0  2018-12-03  1984.00  1990.00  1968.30  1984.00  1982.40   \n",
       "1  2018-12-04  1983.00  2019.40  1971.00  2009.85  2010.85   \n",
       "2  2018-12-05  2006.00  2018.00  1985.00  2003.90  2006.75   \n",
       "3  2018-12-06  1998.00  2017.00  1979.60  1990.00  1992.70   \n",
       "4  2018-12-07  1985.05  2003.90  1973.00  1999.85  1995.20   \n",
       "5  2018-12-10  1975.00  2011.00  1960.00  1961.00  1975.80   \n",
       "6  2018-12-11  1970.00  2010.00  1961.00  1997.05  2000.00   \n",
       "7  2018-12-12  2001.10  2022.00  1984.95  2016.50  2016.80   \n",
       "8  2018-12-13  2024.00  2029.70  1974.50  1981.95  1982.60   \n",
       "9  2018-12-14  1983.00  1998.95  1975.25  1989.00  1989.75   \n",
       "\n",
       "   Total Trade Quantity  Turnover (Lacs)  \n",
       "0             1610576.0         31868.00  \n",
       "1             3270615.0         65568.23  \n",
       "2             2501539.0         50131.23  \n",
       "3             2321216.0         46373.71  \n",
       "4             1680420.0         33463.26  \n",
       "5             2010786.0         39990.73  \n",
       "6             2942014.0         58636.26  \n",
       "7             2219993.0         44663.42  \n",
       "8             3748429.0         74802.38  \n",
       "9             2473761.0         49094.42  "
      ]
     },
     "execution_count": 50,
     "metadata": {},
     "output_type": "execute_result"
    }
   ],
   "source": [
    "df.head(10)"
   ]
  },
  {
   "cell_type": "markdown",
   "metadata": {},
   "source": [
    "Data Preparation"
   ]
  },
  {
   "cell_type": "code",
   "execution_count": 51,
   "metadata": {},
   "outputs": [
    {
     "name": "stdout",
     "output_type": "stream",
     "text": [
      "<class 'pandas.core.frame.DataFrame'>\n",
      "RangeIndex: 20 entries, 0 to 19\n",
      "Data columns (total 8 columns):\n",
      " #   Column                Non-Null Count  Dtype  \n",
      "---  ------                --------------  -----  \n",
      " 0   Date                  20 non-null     object \n",
      " 1   Open                  20 non-null     float64\n",
      " 2   High                  20 non-null     float64\n",
      " 3   Low                   20 non-null     float64\n",
      " 4   Last                  20 non-null     float64\n",
      " 5   Close                 20 non-null     float64\n",
      " 6   Total Trade Quantity  20 non-null     float64\n",
      " 7   Turnover (Lacs)       20 non-null     float64\n",
      "dtypes: float64(7), object(1)\n",
      "memory usage: 1.4+ KB\n"
     ]
    }
   ],
   "source": [
    "df.info()"
   ]
  },
  {
   "cell_type": "markdown",
   "metadata": {},
   "source": [
    "Mencari Heatmap"
   ]
  },
  {
   "cell_type": "code",
   "execution_count": 52,
   "metadata": {},
   "outputs": [
    {
     "data": {
      "text/plain": [
       "<Axes: >"
      ]
     },
     "execution_count": 52,
     "metadata": {},
     "output_type": "execute_result"
    },
    {
     "data": {
      "image/png": "[encoded data removed]",
      "text/plain": [
       "<Figure size 640x480 with 2 Axes>"
      ]
     },
     "metadata": {},
     "output_type": "display_data"
    }
   ],
   "source": [
    "sns.heatmap(df.isnull())"
   ]
  },
  {
   "cell_type": "markdown",
   "metadata": {},
   "source": [
    "Melihat Nilai Data"
   ]
  },
  {
   "cell_type": "code",
   "execution_count": 100,
   "metadata": {},
   "outputs": [
    {
     "data": {
      "text/html": [
       "<div>\n",
       "<style scoped>\n",
       "    .dataframe tbody tr th:only-of-type {\n",
       "        vertical-align: middle;\n",
       "    }\n",
       "\n",
       "    .dataframe tbody tr th {\n",
       "        vertical-align: top;\n",
       "    }\n",
       "\n",
       "    .dataframe thead th {\n",
       "        text-align: right;\n",
       "    }\n",
       "</style>\n",
       "<table border=\"1\" class=\"dataframe\">\n",
       "  <thead>\n",
       "    <tr style=\"text-align: right;\">\n",
       "      <th></th>\n",
       "      <th>Open</th>\n",
       "      <th>High</th>\n",
       "      <th>Low</th>\n",
       "      <th>Last</th>\n",
       "      <th>Close</th>\n",
       "      <th>Total Trade Quantity</th>\n",
       "      <th>Turnover (Lacs)</th>\n",
       "    </tr>\n",
       "  </thead>\n",
       "  <tbody>\n",
       "    <tr>\n",
       "      <th>count</th>\n",
       "      <td>20.000000</td>\n",
       "      <td>20.0000</td>\n",
       "      <td>20.000000</td>\n",
       "      <td>20.00000</td>\n",
       "      <td>20.000000</td>\n",
       "      <td>2.000000e+01</td>\n",
       "      <td>20.000000</td>\n",
       "    </tr>\n",
       "    <tr>\n",
       "      <th>mean</th>\n",
       "      <td>1967.312500</td>\n",
       "      <td>1983.3975</td>\n",
       "      <td>1945.655000</td>\n",
       "      <td>1962.97750</td>\n",
       "      <td>1962.952500</td>\n",
       "      <td>2.467144e+06</td>\n",
       "      <td>48423.724000</td>\n",
       "    </tr>\n",
       "    <tr>\n",
       "      <th>std</th>\n",
       "      <td>36.938946</td>\n",
       "      <td>38.7280</td>\n",
       "      <td>42.023142</td>\n",
       "      <td>42.98135</td>\n",
       "      <td>44.704991</td>\n",
       "      <td>8.906054e+05</td>\n",
       "      <td>17225.204775</td>\n",
       "    </tr>\n",
       "    <tr>\n",
       "      <th>min</th>\n",
       "      <td>1905.800000</td>\n",
       "      <td>1909.0000</td>\n",
       "      <td>1870.250000</td>\n",
       "      <td>1892.00000</td>\n",
       "      <td>1889.200000</td>\n",
       "      <td>1.227921e+06</td>\n",
       "      <td>24482.950000</td>\n",
       "    </tr>\n",
       "    <tr>\n",
       "      <th>25%</th>\n",
       "      <td>1941.450000</td>\n",
       "      <td>1947.9250</td>\n",
       "      <td>1902.000000</td>\n",
       "      <td>1918.77500</td>\n",
       "      <td>1916.112500</td>\n",
       "      <td>1.875834e+06</td>\n",
       "      <td>35820.857500</td>\n",
       "    </tr>\n",
       "    <tr>\n",
       "      <th>50%</th>\n",
       "      <td>1983.000000</td>\n",
       "      <td>2000.4750</td>\n",
       "      <td>1964.650000</td>\n",
       "      <td>1982.97500</td>\n",
       "      <td>1982.500000</td>\n",
       "      <td>2.280173e+06</td>\n",
       "      <td>45388.200000</td>\n",
       "    </tr>\n",
       "    <tr>\n",
       "      <th>75%</th>\n",
       "      <td>1993.425000</td>\n",
       "      <td>2012.5000</td>\n",
       "      <td>1975.537500</td>\n",
       "      <td>1993.93750</td>\n",
       "      <td>1994.525000</td>\n",
       "      <td>2.611658e+06</td>\n",
       "      <td>52257.487500</td>\n",
       "    </tr>\n",
       "    <tr>\n",
       "      <th>max</th>\n",
       "      <td>2024.000000</td>\n",
       "      <td>2029.7000</td>\n",
       "      <td>1985.000000</td>\n",
       "      <td>2016.50000</td>\n",
       "      <td>2016.800000</td>\n",
       "      <td>4.968201e+06</td>\n",
       "      <td>95411.460000</td>\n",
       "    </tr>\n",
       "  </tbody>\n",
       "</table>\n",
       "</div>"
      ],
      "text/plain": [
       "              Open       High          Low        Last        Close  \\\n",
       "count    20.000000    20.0000    20.000000    20.00000    20.000000   \n",
       "mean   1967.312500  1983.3975  1945.655000  1962.97750  1962.952500   \n",
       "std      36.938946    38.7280    42.023142    42.98135    44.704991   \n",
       "min    1905.800000  1909.0000  1870.250000  1892.00000  1889.200000   \n",
       "25%    1941.450000  1947.9250  1902.000000  1918.77500  1916.112500   \n",
       "50%    1983.000000  2000.4750  1964.650000  1982.97500  1982.500000   \n",
       "75%    1993.425000  2012.5000  1975.537500  1993.93750  1994.525000   \n",
       "max    2024.000000  2029.7000  1985.000000  2016.50000  2016.800000   \n",
       "\n",
       "       Total Trade Quantity  Turnover (Lacs)  \n",
       "count          2.000000e+01        20.000000  \n",
       "mean           2.467144e+06     48423.724000  \n",
       "std            8.906054e+05     17225.204775  \n",
       "min            1.227921e+06     24482.950000  \n",
       "25%            1.875834e+06     35820.857500  \n",
       "50%            2.280173e+06     45388.200000  \n",
       "75%            2.611658e+06     52257.487500  \n",
       "max            4.968201e+06     95411.460000  "
      ]
     },
     "execution_count": 100,
     "metadata": {},
     "output_type": "execute_result"
    }
   ],
   "source": [
    "df.describe()"
   ]
  },
  {
   "cell_type": "markdown",
   "metadata": {},
   "source": [
    "Visualisasi Data"
   ]
  },
  {
   "cell_type": "code",
   "execution_count": 99,
   "metadata": {},
   "outputs": [
    {
     "data": {
      "text/plain": [
       "<Axes: >"
      ]
     },
     "execution_count": 99,
     "metadata": {},
     "output_type": "execute_result"
    },
    {
     "data": {
      "image/png": "[encoded data removed]",
      "text/plain": [
       "<Figure size 1000x600 with 2 Axes>"
      ]
     },
     "metadata": {},
     "output_type": "display_data"
    }
   ],
   "source": [
    "plt.figure(figsize=(10,6))\n",
    "sns.heatmap(df.corr(), annot=True)"
   ]
  },
  {
   "cell_type": "code",
   "execution_count": 98,
   "metadata": {},
   "outputs": [
    {
     "data": {
      "text/plain": [
       "Date                    0\n",
       "Open                    0\n",
       "High                    0\n",
       "Low                     0\n",
       "Last                    0\n",
       "Close                   0\n",
       "Total Trade Quantity    0\n",
       "Turnover (Lacs)         0\n",
       "dtype: int64"
      ]
     },
     "execution_count": 98,
     "metadata": {},
     "output_type": "execute_result"
    }
   ],
   "source": [
    "df.isnull().sum()"
   ]
  },
  {
   "cell_type": "markdown",
   "metadata": {},
   "source": [
    "Modeling Data<br>"
   ]
  },
  {
   "cell_type": "code",
   "execution_count": 101,
   "metadata": {},
   "outputs": [],
   "source": [
    "x = df.loc[:,'High':'Turnover (Lacs)']\n",
    "y = df.loc[:,'Open']"
   ]
  },
  {
   "cell_type": "markdown",
   "metadata": {},
   "source": [
    "Split Data Training And Testing"
   ]
  },
  {
   "cell_type": "code",
   "execution_count": 102,
   "metadata": {},
   "outputs": [
    {
     "data": {
      "text/plain": [
       "(2,)"
      ]
     },
     "execution_count": 102,
     "metadata": {},
     "output_type": "execute_result"
    }
   ],
   "source": [
    "from sklearn.model_selection import train_test_split\n",
    "x_train,x_test,y_train,y_test = train_test_split(x,y,test_size = 0.1,random_state = 0)\n",
    "y_test.shape"
   ]
  },
  {
   "cell_type": "markdown",
   "metadata": {},
   "source": [
    "Membuat Regresi Linear"
   ]
  },
  {
   "cell_type": "code",
   "execution_count": 114,
   "metadata": {},
   "outputs": [
    {
     "ename": "NotFittedError",
     "evalue": "This LinearRegression instance is not fitted yet. Call 'fit' with appropriate arguments before using this estimator.",
     "output_type": "error",
     "traceback": [
      "\u001b[1;31m---------------------------------------------------------------------------\u001b[0m",
      "\u001b[1;31mNotFittedError\u001b[0m                            Traceback (most recent call last)",
      "\u001b[1;32mc:\\Users\\Irpan\\Documents\\Joki\\stockmarket.ipynb Cell 21\u001b[0m line \u001b[0;36m1\n\u001b[1;32m----> <a href='vscode-notebook-cell:/c%3A/Users/Irpan/Documents/Joki/stockmarket.ipynb#X60sZmlsZQ%3D%3D?line=0'>1</a>\u001b[0m y \u001b[39m=\u001b[39m LR\u001b[39m.\u001b[39;49mscore(x_test, y_test)\n\u001b[0;32m      <a href='vscode-notebook-cell:/c%3A/Users/Irpan/Documents/Joki/stockmarket.ipynb#X60sZmlsZQ%3D%3D?line=1'>2</a>\u001b[0m \u001b[39mprint\u001b[39m(\u001b[39m'\u001b[39m\u001b[39mAkurasi Model Regresi Linier : \u001b[39m\u001b[39m'\u001b[39m, y)\n",
      "File \u001b[1;32mc:\\Users\\Irpan\\anaconda3\\Lib\\site-packages\\sklearn\\base.py:760\u001b[0m, in \u001b[0;36mRegressorMixin.score\u001b[1;34m(self, X, y, sample_weight)\u001b[0m\n\u001b[0;32m    718\u001b[0m \u001b[39m\u001b[39m\u001b[39m\"\"\"Return the coefficient of determination of the prediction.\u001b[39;00m\n\u001b[0;32m    719\u001b[0m \n\u001b[0;32m    720\u001b[0m \u001b[39mThe coefficient of determination :math:`R^2` is defined as\u001b[39;00m\n\u001b[1;32m   (...)\u001b[0m\n\u001b[0;32m    755\u001b[0m \u001b[39m:class:`~sklearn.multioutput.MultiOutputRegressor`).\u001b[39;00m\n\u001b[0;32m    756\u001b[0m \u001b[39m\"\"\"\u001b[39;00m\n\u001b[0;32m    758\u001b[0m \u001b[39mfrom\u001b[39;00m \u001b[39m.\u001b[39;00m\u001b[39mmetrics\u001b[39;00m \u001b[39mimport\u001b[39;00m r2_score\n\u001b[1;32m--> 760\u001b[0m y_pred \u001b[39m=\u001b[39m \u001b[39mself\u001b[39;49m\u001b[39m.\u001b[39;49mpredict(X)\n\u001b[0;32m    761\u001b[0m \u001b[39mreturn\u001b[39;00m r2_score(y, y_pred, sample_weight\u001b[39m=\u001b[39msample_weight)\n",
      "File \u001b[1;32mc:\\Users\\Irpan\\anaconda3\\Lib\\site-packages\\sklearn\\linear_model\\_base.py:386\u001b[0m, in \u001b[0;36mLinearModel.predict\u001b[1;34m(self, X)\u001b[0m\n\u001b[0;32m    372\u001b[0m \u001b[39mdef\u001b[39;00m \u001b[39mpredict\u001b[39m(\u001b[39mself\u001b[39m, X):\n\u001b[0;32m    373\u001b[0m \u001b[39m    \u001b[39m\u001b[39m\"\"\"\u001b[39;00m\n\u001b[0;32m    374\u001b[0m \u001b[39m    Predict using the linear model.\u001b[39;00m\n\u001b[0;32m    375\u001b[0m \n\u001b[1;32m   (...)\u001b[0m\n\u001b[0;32m    384\u001b[0m \u001b[39m        Returns predicted values.\u001b[39;00m\n\u001b[0;32m    385\u001b[0m \u001b[39m    \"\"\"\u001b[39;00m\n\u001b[1;32m--> 386\u001b[0m     \u001b[39mreturn\u001b[39;00m \u001b[39mself\u001b[39;49m\u001b[39m.\u001b[39;49m_decision_function(X)\n",
      "File \u001b[1;32mc:\\Users\\Irpan\\anaconda3\\Lib\\site-packages\\sklearn\\linear_model\\_base.py:367\u001b[0m, in \u001b[0;36mLinearModel._decision_function\u001b[1;34m(self, X)\u001b[0m\n\u001b[0;32m    366\u001b[0m \u001b[39mdef\u001b[39;00m \u001b[39m_decision_function\u001b[39m(\u001b[39mself\u001b[39m, X):\n\u001b[1;32m--> 367\u001b[0m     check_is_fitted(\u001b[39mself\u001b[39;49m)\n\u001b[0;32m    369\u001b[0m     X \u001b[39m=\u001b[39m \u001b[39mself\u001b[39m\u001b[39m.\u001b[39m_validate_data(X, accept_sparse\u001b[39m=\u001b[39m[\u001b[39m\"\u001b[39m\u001b[39mcsr\u001b[39m\u001b[39m\"\u001b[39m, \u001b[39m\"\u001b[39m\u001b[39mcsc\u001b[39m\u001b[39m\"\u001b[39m, \u001b[39m\"\u001b[39m\u001b[39mcoo\u001b[39m\u001b[39m\"\u001b[39m], reset\u001b[39m=\u001b[39m\u001b[39mFalse\u001b[39;00m)\n\u001b[0;32m    370\u001b[0m     \u001b[39mreturn\u001b[39;00m safe_sparse_dot(X, \u001b[39mself\u001b[39m\u001b[39m.\u001b[39mcoef_\u001b[39m.\u001b[39mT, dense_output\u001b[39m=\u001b[39m\u001b[39mTrue\u001b[39;00m) \u001b[39m+\u001b[39m \u001b[39mself\u001b[39m\u001b[39m.\u001b[39mintercept_\n",
      "File \u001b[1;32mc:\\Users\\Irpan\\anaconda3\\Lib\\site-packages\\sklearn\\utils\\validation.py:1461\u001b[0m, in \u001b[0;36mcheck_is_fitted\u001b[1;34m(estimator, attributes, msg, all_or_any)\u001b[0m\n\u001b[0;32m   1458\u001b[0m     \u001b[39mraise\u001b[39;00m \u001b[39mTypeError\u001b[39;00m(\u001b[39m\"\u001b[39m\u001b[39m%s\u001b[39;00m\u001b[39m is not an estimator instance.\u001b[39m\u001b[39m\"\u001b[39m \u001b[39m%\u001b[39m (estimator))\n\u001b[0;32m   1460\u001b[0m \u001b[39mif\u001b[39;00m \u001b[39mnot\u001b[39;00m _is_fitted(estimator, attributes, all_or_any):\n\u001b[1;32m-> 1461\u001b[0m     \u001b[39mraise\u001b[39;00m NotFittedError(msg \u001b[39m%\u001b[39m {\u001b[39m\"\u001b[39m\u001b[39mname\u001b[39m\u001b[39m\"\u001b[39m: \u001b[39mtype\u001b[39m(estimator)\u001b[39m.\u001b[39m\u001b[39m__name__\u001b[39m})\n",
      "\u001b[1;31mNotFittedError\u001b[0m: This LinearRegression instance is not fitted yet. Call 'fit' with appropriate arguments before using this estimator."
     ]
    }
   ],
   "source": [
    "y = LR.score(x_test, y_test)\n",
    "print('Akurasi Model Regresi Linier : ', y)"
   ]
  },
  {
   "cell_type": "markdown",
   "metadata": {},
   "source": [
    "Deployment"
   ]
  },
  {
   "cell_type": "code",
   "execution_count": 59,
   "metadata": {},
   "outputs": [],
   "source": [
    "import pickle\n",
    "filename = 'stock_market.sav'\n",
    "pickle.dump(LR,open(filename,'wb'))"
   ]
  }
 ],
 "metadata": {
  "kernelspec": {
   "display_name": "base",
   "language": "python",
   "name": "python3"
  },
  "language_info": {
   "codemirror_mode": {
    "name": "ipython",
    "version": 3
   },
   "file_extension": ".py",
   "mimetype": "text/x-python",
   "name": "python",
   "nbconvert_exporter": "python",
   "pygments_lexer": "ipython3",
   "version": "3.11.4"
  }
 },
 "nbformat": 4,
 "nbformat_minor": 2
}
